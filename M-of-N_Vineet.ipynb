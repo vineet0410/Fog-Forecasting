{
 "cells": [
  {
   "cell_type": "code",
   "execution_count": 1,
   "metadata": {},
   "outputs": [
    {
     "name": "stdout",
     "output_type": "stream",
     "text": [
      "[0 0 0 0 0 1 1 1 0 0 0 2 2 2 2 2 0 0 0 0]\n"
     ]
    }
   ],
   "source": [
    "import numpy as np\n",
    "foglvl=np.array([0,0,0,0,0,1,3,1,0,0,0,1,4,0,0,1,0,0,0,0]) #Foglevel array\n",
    "lenfoglvl= len(foglvl)   #length of fog array\n",
    "fogevnt = np.full(lenfoglvl,0)  # creating an array of same length as foglvl to store the identified fog events \n",
    "N = 5\n",
    "M = 3\n",
    "i = 0\n",
    "event_no = 1\n",
    "zero_count = 0\n",
    "last_fogentry=0\n",
    "peak=0\n",
    "while i<lenfoglvl-N:\n",
    "    j=i+1\n",
    "    last_fogentry=j\n",
    "    peak=0\n",
    "    if foglvl[i]!=0:\n",
    "        zero_count = 0\n",
    "        while zero_count<= N-M and j<lenfoglvl-1:\n",
    "            if foglvl[j]==0:\n",
    "                zero_count = zero_count+1\n",
    "            else:\n",
    "                last_fogentry=j\n",
    "            if foglvl[j]==3 or foglvl[j]==4:\n",
    "                peak=1\n",
    "            j=j+1\n",
    "    if j<i+N+1 or peak==0:\n",
    "        i=i+1\n",
    "    else:\n",
    "        fogevnt[i:j-1]=event_no\n",
    "        fogevnt[last_fogentry+1:j-1]=0\n",
    "        event_no = event_no+1\n",
    "        i=j-1\n",
    "print (fogevnt)"
   ]
  }
 ],
 "metadata": {
  "kernelspec": {
   "display_name": "Python 3",
   "language": "python",
   "name": "python3"
  },
  "language_info": {
   "codemirror_mode": {
    "name": "ipython",
    "version": 3
   },
   "file_extension": ".py",
   "mimetype": "text/x-python",
   "name": "python",
   "nbconvert_exporter": "python",
   "pygments_lexer": "ipython3",
   "version": "3.7.3"
  }
 },
 "nbformat": 4,
 "nbformat_minor": 2
}
